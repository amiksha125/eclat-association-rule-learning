{
  "cells": [
    {
      "cell_type": "markdown",
      "metadata": {
        "id": "TAdldaWxlmNq"
      },
      "source": [
        "## Applying ECLAT on small data"
      ]
    },
    {
      "cell_type": "code",
      "execution_count": 2,
      "metadata": {
        "colab": {
          "base_uri": "https://localhost:8080/",
          "height": 1000,
          "referenced_widgets": [
            "e4c12df09551486b95ad1a42cf8b9384",
            "3a668b52d80a4223a0382fc2a22cd5e1",
            "a1aa4697a0ba49f18279ec5604fea6f8",
            "043bf7a2fa654fb897b1db7a3372b115",
            "ec0ebf7462b1437f9dcf20407854b44d",
            "b96f832c32ae40bcb6f0243664b1bc1b",
            "2f20b7ae11544733a3c62347b974ef6c",
            "cdd64dfc06814c01956c2a6eff49c3d8",
            "affd4ee133a34589b0d67703a5392f57",
            "82a4693e9e71483eb56fd650fb0f789e",
            "a8d636729dea49f4ad794b6502a4df3b",
            "6b79025e79f74a36a2991df2939fa730",
            "7456688f8608499480dc3d1bd90801c9"
          ]
        },
        "id": "nbdAFmkhZbcd",
        "outputId": "8573b33f-8295-4876-f728-5508fab49d41"
      },
      "outputs": [
        {
          "output_type": "display_data",
          "data": {
            "text/plain": [
              "<IPython.core.display.HTML object>"
            ],
            "text/html": [
              "\n",
              "    <style>\n",
              "    body {\n",
              "        background-color: #800080;\n",
              "        font-family: Calibri, sans-serif;\n",
              "        font-weight: bold;\n",
              "        text-align: center;\n",
              "        color: white;\n",
              "    }\n",
              "    .widget-label {\n",
              "        color: white !important;\n",
              "        font-weight: bold;\n",
              "    }\n",
              "    .my_output_area {\n",
              "        background-color: #D8BFD8;\n",
              "        border: 1px solid #4B0082;\n",
              "        padding: 10px;\n",
              "        border-radius: 5px;\n",
              "        color: white !important;\n",
              "        text-align: center;\n",
              "        font-size: 18px;\n",
              "        z-index: 10;\n",
              "        position: relative;\n",
              "        margin: 5px 0;\n",
              "    }\n",
              "    .my_output_area {\n",
              "        background-color: transparent !important; /* Ensures transparency */\n",
              "        border: none; /* Remove any default border */\n",
              "        padding: 0 !important; /* Remove padding if needed */\n",
              "    }\n",
              "    .widget-button {\n",
              "        background-color: #4B0082;\n",
              "        color: white;\n",
              "        font-weight: bold;\n",
              "    }\n",
              "    select {\n",
              "        background-color: #4B0082;\n",
              "        color: white;\n",
              "        font-weight: bold;\n",
              "    }\n",
              "</style>\n"
            ]
          },
          "metadata": {}
        },
        {
          "output_type": "display_data",
          "data": {
            "text/plain": [
              "<IPython.core.display.HTML object>"
            ],
            "text/html": [
              "\n",
              "    <h1 style=\"text-align: center; color: white; font-family: Calibri, sans-serif; font-weight: bold;\">\n",
              "        Generate Frequent Itemsets using ECLAT Algorithm\n",
              "    </h1>\n"
            ]
          },
          "metadata": {}
        },
        {
          "output_type": "display_data",
          "data": {
            "text/plain": [
              "VBox(children=(FileUpload(value={}, accept='.csv', description='Upload CSV'), Dropdown(description='Minimum Su…"
            ],
            "application/vnd.jupyter.widget-view+json": {
              "version_major": 2,
              "version_minor": 0,
              "model_id": "e4c12df09551486b95ad1a42cf8b9384"
            }
          },
          "metadata": {}
        }
      ],
      "source": [
        "# Import necessary libraries\n",
        "import pandas as pd\n",
        "from collections import defaultdict\n",
        "from itertools import combinations\n",
        "import ipywidgets as widgets\n",
        "from IPython.display import display, clear_output, HTML\n",
        "from io import StringIO\n",
        "\n",
        "# Display styling\n",
        "display(HTML('''\n",
        "    <style>\n",
        "    body {\n",
        "        background-color: #800080;\n",
        "        font-family: Calibri, sans-serif;\n",
        "        font-weight: bold;\n",
        "        text-align: center;\n",
        "        color: white;\n",
        "    }\n",
        "    .widget-label {\n",
        "        color: white !important;\n",
        "        font-weight: bold;\n",
        "    }\n",
        "    .my_output_area {\n",
        "        background-color: #D8BFD8;\n",
        "        border: 1px solid #4B0082;\n",
        "        padding: 10px;\n",
        "        border-radius: 5px;\n",
        "        color: white !important;\n",
        "        text-align: center;\n",
        "        font-size: 18px;\n",
        "        z-index: 10;\n",
        "        position: relative;\n",
        "        margin: 5px 0;\n",
        "    }\n",
        "    .my_output_area {\n",
        "        background-color: transparent !important; /* Ensures transparency */\n",
        "        border: none; /* Remove any default border */\n",
        "        padding: 0 !important; /* Remove padding if needed */\n",
        "    }\n",
        "    .widget-button {\n",
        "        background-color: #4B0082;\n",
        "        color: white;\n",
        "        font-weight: bold;\n",
        "    }\n",
        "    select {\n",
        "        background-color: #4B0082;\n",
        "        color: white;\n",
        "        font-weight: bold;\n",
        "    }\n",
        "</style>\n",
        "'''))\n",
        "\n",
        "# Display the heading\n",
        "display(HTML('''\n",
        "    <h1 style=\"text-align: center; color: white; font-family: Calibri, sans-serif; font-weight: bold;\">\n",
        "        Generate Frequent Itemsets using ECLAT Algorithm\n",
        "    </h1>\n",
        "'''))\n",
        "\n",
        "# Create the file upload widget\n",
        "upload = widgets.FileUpload(\n",
        "    accept='.csv',\n",
        "    multiple=False,\n",
        "    description='Upload CSV',\n",
        "    style={'description_width': 'initial'}\n",
        ")\n",
        "\n",
        "# Create the minimum support dropdown widget\n",
        "min_sup_input = widgets.Dropdown(\n",
        "    options=[1, 2, 3, 4, 5, 6, 7, 8, 9, 10],\n",
        "    value=2,\n",
        "    description='Minimum Support:',\n",
        "    style={'description_width': 'initial'}\n",
        ")\n",
        "\n",
        "# Create the run button\n",
        "run_button = widgets.Button(\n",
        "    description='Run ECLAT',\n",
        "    button_style='',\n",
        "    tooltip='Click to Run ECLAT',\n",
        "    style={'description_width': 'initial'}\n",
        ")\n",
        "\n",
        "# Create the output area\n",
        "output = widgets.Output()\n",
        "\n",
        "# Display the widgets in a vertical box\n",
        "widgets_box = widgets.VBox([upload, min_sup_input, run_button, output])\n",
        "display(widgets_box)\n",
        "\n",
        "# Define the function to generate vertical data format (VDF)\n",
        "def generate_vdf(transactions, itemsets):\n",
        "    vdf = defaultdict(set)\n",
        "    for tid, trans in transactions.items():\n",
        "        for itemset in itemsets:\n",
        "            if set(itemset).issubset(trans):\n",
        "                vdf[itemset].add(tid)\n",
        "    return vdf\n",
        "\n",
        "# Define the function to prune itemsets based on minimum support\n",
        "def prune_vdf(vdf, min_sup):\n",
        "    return {itemset: tids for itemset, tids in vdf.items() if len(tids) >= min_sup}\n",
        "\n",
        "# Define the main ECLAT algorithm\n",
        "def run_eclat(transactions, min_sup):\n",
        "    result = []\n",
        "    k = 1\n",
        "    all_items = sorted({item for trans in transactions.values() for item in trans})\n",
        "    current_itemsets = [(item,) for item in all_items]\n",
        "\n",
        "    while current_itemsets:\n",
        "        vdf = generate_vdf(transactions, current_itemsets)\n",
        "\n",
        "        with output:\n",
        "            display(HTML(f'<div class=\"my_output_area\"><strong>VDF for {k}-itemsets (before pruning):</strong></div>'))\n",
        "            for itemset, tids in vdf.items():\n",
        "                display(HTML(f'<div class=\"my_output_area\">{\", \".join(itemset)} : {tids} (Support: {len(tids)})</div>'))\n",
        "\n",
        "        pruned_vdf = prune_vdf(vdf, min_sup)\n",
        "        if not pruned_vdf:\n",
        "            break\n",
        "\n",
        "        with output:\n",
        "            display(HTML(f'<div class=\"my_output_area\"><strong>VDF for {k}-itemsets (after pruning):</strong></div>'))\n",
        "            for itemset, tids in pruned_vdf.items():\n",
        "                display(HTML(f'<div class=\"my_output_area\">{\", \".join(itemset)} : {tids} (Support: {len(tids)})</div>'))\n",
        "                result.append((itemset, tids))\n",
        "\n",
        "        prev_frequent = list(pruned_vdf.keys())\n",
        "        k += 1\n",
        "        current_itemsets = list(set(\n",
        "            tuple(sorted(set(a) | set(b)))\n",
        "            for i, a in enumerate(prev_frequent)\n",
        "            for b in prev_frequent[i + 1:]\n",
        "            if len(set(a) | set(b)) == k\n",
        "        ))\n",
        "\n",
        "    return result\n",
        "\n",
        "# Define the function to handle the run button click event\n",
        "def on_run_button_clicked(b):\n",
        "    output.clear_output()\n",
        "\n",
        "    if not upload.value:\n",
        "        with output:\n",
        "            display(HTML('<div class=\"my_output_area\">❗Please upload a CSV file first.</div>'))\n",
        "        return\n",
        "\n",
        "    # Read the uploaded file\n",
        "    uploaded_filename = list(upload.value.keys())[0]\n",
        "    content = upload.value[uploaded_filename]['content']\n",
        "    df = pd.read_csv(StringIO(content.decode('utf-8')))\n",
        "\n",
        "    # Display the CSV content as a table\n",
        "    with output:\n",
        "        display(HTML('<div class=\"my_output_area\"><strong>Uploaded CSV Data:</strong></div>'))\n",
        "        display(df)\n",
        "\n",
        "    # Expect 'Items' column\n",
        "    if 'Items' not in df.columns:\n",
        "        with output:\n",
        "            display(HTML('<div class=\"my_output_area\">❗CSV must have a column named \"Items\" containing transactions.</div>'))\n",
        "        return\n",
        "\n",
        "    transactions = {i + 1: set(str(row).split()) for i, row in enumerate(df['Items'].dropna())}\n",
        "    min_sup = min_sup_input.value\n",
        "\n",
        "    with output:\n",
        "        display(HTML(f'<div class=\"my_output_area\">Running ECLAT with minimum support = {min_sup}</div>'))\n",
        "\n",
        "    frequent_itemsets = run_eclat(transactions, min_sup)\n",
        "\n",
        "    with output:\n",
        "        display(HTML('<div class=\"my_output_area\"><strong>All Frequent Itemsets Found:</strong></div>'))\n",
        "        for itemset, tids in frequent_itemsets:\n",
        "            display(HTML(f'<div class=\"my_output_area\">Itemset: {itemset} | Support: {len(tids)}</div>'))\n",
        "\n",
        "# Bind the button click event to the handler function\n",
        "run_button.on_click(on_run_button_clicked)\n"
      ]
    },
    {
      "cell_type": "markdown",
      "metadata": {
        "id": "cV2BU50SlYZl"
      },
      "source": [
        "## Applying ECLAT on Online Retail Dataset with 1500 rows"
      ]
    },
    {
      "cell_type": "code",
      "execution_count": 1,
      "metadata": {
        "colab": {
          "base_uri": "https://localhost:8080/",
          "height": 607,
          "referenced_widgets": [
            "21dff50c9ac543aab525c589e35abc50",
            "30208ae23a0744e0a99eea1def817fcf",
            "79736a02ec7448de95e72b7c6d3724e1",
            "200bc757397340cba51099721b89d4d8",
            "34107399f0fb4b0ba4cd0e68f1e6dfe3",
            "485ad5dd94894750b6f44f70a384cd50",
            "226d52ef1bef4ed2b94f1c0b53e6fccf",
            "dc3a60f195c546478b2cc1b58a9491d3",
            "cbc1d028a0ba498c80af505654fca96a",
            "6e52358925b1447ea3d2d427a8234401",
            "609704354569428081c40021f6e3bf83",
            "08e4394cdb0743969154644ac64efa27",
            "6b1144a0d3c94b28b25880afb460b566"
          ]
        },
        "id": "rpRIOCmqb8nk",
        "outputId": "fe91c31a-5ec2-41e4-cb59-b5fefad0d0f2"
      },
      "outputs": [
        {
          "output_type": "display_data",
          "data": {
            "text/plain": [
              "<IPython.core.display.HTML object>"
            ],
            "text/html": [
              "\n",
              "    <style>\n",
              "    body {\n",
              "        background-color: #800080;\n",
              "        font-family: Calibri, sans-serif;\n",
              "        font-weight: bold;\n",
              "        text-align: center;\n",
              "        color: white;\n",
              "    }\n",
              "    .widget-label {\n",
              "        color: white !important;\n",
              "        font-weight: bold;\n",
              "    }\n",
              "    .my_output_area {\n",
              "        background-color: #D8BFD8;\n",
              "        border: 1px solid #4B0082;\n",
              "        padding: 10px;\n",
              "        border-radius: 5px;\n",
              "        color: white !important;\n",
              "        text-align: center;\n",
              "        font-size: 18px;\n",
              "        z-index: 10;\n",
              "        position: relative;\n",
              "        margin: 5px 0;\n",
              "    }\n",
              "    .my_output_area {\n",
              "        background-color: transparent !important; /* Ensures transparency */\n",
              "        border: none; /* Remove any default border */\n",
              "        padding: 0 !important; /* Remove padding if needed */\n",
              "    }\n",
              "    .widget-button {\n",
              "        background-color: #4B0082;\n",
              "        color: white;\n",
              "        font-weight: bold;\n",
              "    }\n",
              "    select {\n",
              "        background-color: #4B0082;\n",
              "        color: white;\n",
              "        font-weight: bold;\n",
              "    }\n",
              "</style>\n"
            ]
          },
          "metadata": {}
        },
        {
          "output_type": "display_data",
          "data": {
            "text/plain": [
              "<IPython.core.display.HTML object>"
            ],
            "text/html": [
              "\n",
              "    <h1 style=\"text-align: center; color: white; font-family: Calibri, sans-serif; font-weight: bold;\">\n",
              "        Generate Frequent Itemsets using ECLAT Algorithm\n",
              "    </h1>\n"
            ]
          },
          "metadata": {}
        },
        {
          "output_type": "display_data",
          "data": {
            "text/plain": [
              "VBox(children=(FileUpload(value={}, accept='.csv', description='Upload CSV'), Dropdown(description='Minimum Su…"
            ],
            "application/vnd.jupyter.widget-view+json": {
              "version_major": 2,
              "version_minor": 0,
              "model_id": "21dff50c9ac543aab525c589e35abc50"
            }
          },
          "metadata": {}
        }
      ],
      "source": [
        "# Import necessary libraries\n",
        "import pandas as pd\n",
        "from collections import defaultdict\n",
        "from itertools import combinations\n",
        "import ipywidgets as widgets\n",
        "from IPython.display import display, clear_output, HTML\n",
        "from io import StringIO\n",
        "\n",
        "# Display styling\n",
        "display(HTML('''\n",
        "    <style>\n",
        "    body {\n",
        "        background-color: #800080;\n",
        "        font-family: Calibri, sans-serif;\n",
        "        font-weight: bold;\n",
        "        text-align: center;\n",
        "        color: white;\n",
        "    }\n",
        "    .widget-label {\n",
        "        color: white !important;\n",
        "        font-weight: bold;\n",
        "    }\n",
        "    .my_output_area {\n",
        "        background-color: #D8BFD8;\n",
        "        border: 1px solid #4B0082;\n",
        "        padding: 10px;\n",
        "        border-radius: 5px;\n",
        "        color: white !important;\n",
        "        text-align: center;\n",
        "        font-size: 18px;\n",
        "        z-index: 10;\n",
        "        position: relative;\n",
        "        margin: 5px 0;\n",
        "    }\n",
        "    .my_output_area {\n",
        "        background-color: transparent !important; /* Ensures transparency */\n",
        "        border: none; /* Remove any default border */\n",
        "        padding: 0 !important; /* Remove padding if needed */\n",
        "    }\n",
        "    .widget-button {\n",
        "        background-color: #4B0082;\n",
        "        color: white;\n",
        "        font-weight: bold;\n",
        "    }\n",
        "    select {\n",
        "        background-color: #4B0082;\n",
        "        color: white;\n",
        "        font-weight: bold;\n",
        "    }\n",
        "</style>\n",
        "'''))\n",
        "\n",
        "# Display the heading\n",
        "display(HTML('''\n",
        "    <h1 style=\"text-align: center; color: white; font-family: Calibri, sans-serif; font-weight: bold;\">\n",
        "        Generate Frequent Itemsets using ECLAT Algorithm\n",
        "    </h1>\n",
        "'''))\n",
        "\n",
        "# Create widgets\n",
        "upload = widgets.FileUpload(accept='.csv', multiple=False, description='Upload CSV', style={'description_width': 'initial'})\n",
        "min_sup_input = widgets.Dropdown(options=[1, 2, 3, 4, 5, 6, 7, 8, 9, 10, 11, 12], value=2, description='Minimum Support:', style={'description_width': 'initial'})\n",
        "run_button = widgets.Button(description='Run ECLAT', button_style='', tooltip='Click to Run ECLAT', style={'description_width': 'initial'})\n",
        "output = widgets.Output()\n",
        "\n",
        "widgets_box = widgets.VBox([upload, min_sup_input, run_button, output])\n",
        "display(widgets_box)\n",
        "\n",
        "# Define ECLAT algorithm\n",
        "def run_eclat(transactions, min_sup):\n",
        "    vertical_db = defaultdict(set)\n",
        "    for tid, items in transactions.items():\n",
        "        for item in items:\n",
        "            vertical_db[item].add(tid)\n",
        "\n",
        "    vertical_db = {item: tids for item, tids in vertical_db.items() if len(tids) >= min_sup}\n",
        "    frequent_itemsets = [(frozenset([item]), tids) for item, tids in vertical_db.items()]\n",
        "    result = []\n",
        "\n",
        "    def eclat(prefix, items):\n",
        "        items = list(items)\n",
        "        for i in range(len(items)):\n",
        "            item_i, tid_i = items[i]\n",
        "            new_itemset = prefix.union([item_i])\n",
        "            support = len(tid_i)\n",
        "            if support >= min_sup:\n",
        "                result.append((new_itemset, tid_i))\n",
        "                suffix = []\n",
        "                for j in range(i + 1, len(items)):\n",
        "                    item_j, tid_j = items[j]\n",
        "                    tids_intersection = tid_i & tid_j\n",
        "                    if len(tids_intersection) >= min_sup:\n",
        "                        suffix.append((item_j, tids_intersection))\n",
        "                if suffix:\n",
        "                    eclat(new_itemset, suffix)\n",
        "\n",
        "    eclat(frozenset(), frequent_itemsets)\n",
        "    return result\n",
        "\n",
        "# Button click event\n",
        "def on_run_button_clicked(b):\n",
        "    output.clear_output()\n",
        "\n",
        "    if not upload.value:\n",
        "        with output:\n",
        "            display(HTML('<div class=\"my_output_area\">❗Please upload a CSV file first.</div>'))\n",
        "        return\n",
        "\n",
        "    # uploaded_filename = list(upload.value.keys())[0]\n",
        "    # content = upload.value[uploaded_filename]['content']\n",
        "    # df = pd.read_csv(StringIO(content.decode('utf-8')))\n",
        "\n",
        "\n",
        "    uploaded_filename = list(upload.value.keys())[0]\n",
        "    content = upload.value[uploaded_filename]['content']\n",
        "    df = pd.read_csv(StringIO(content.decode('utf-8')))\n",
        "\n",
        "    # Display first few rows of the dataset\n",
        "    with output:\n",
        "        display(HTML(f'<div class=\"my_output_area\"><strong>Dataset Preview:</strong><br><br>{df.head().to_html()}</div>'))\n",
        "\n",
        "\n",
        "\n",
        "    # Preprocess\n",
        "    if 'InvoiceNo' in df.columns and 'Description' in df.columns:\n",
        "        df = df.dropna(subset=['InvoiceNo', 'Description'])\n",
        "        grouped = df.groupby('InvoiceNo')['Description'].apply(lambda x: set(x)).to_dict()\n",
        "        transactions = {i + 1: items for i, items in enumerate(grouped.values())}\n",
        "    elif 'Items' in df.columns:\n",
        "        transactions = {i + 1: set(str(row).split()) for i, row in enumerate(df['Items'].dropna())}\n",
        "    else:\n",
        "        with output:\n",
        "            display(HTML('<div class=\"my_output_area\">❗CSV must have \"InvoiceNo and Description\" or \"Items\" column.'))\n",
        "        return\n",
        "\n",
        "    min_sup = min_sup_input.value\n",
        "    frequent_itemsets = run_eclat(transactions, min_sup)\n",
        "\n",
        "    with output:\n",
        "     if not frequent_itemsets:\n",
        "        display(HTML('<div class=\"my_output_area\">❗No frequent itemsets found for the selected minimum support.</div>'))\n",
        "     else:\n",
        "        final_html = \"<div class='my_output_area'><strong>Frequent Itemsets:</strong><br><br>\"\n",
        "        for itemset, tids in frequent_itemsets:\n",
        "            items = ', '.join(str(i) for i in itemset)   # <-- Fixed here!\n",
        "            final_html += f\"Itemset: [{items}] | Support: {len(tids)}<br>\"\n",
        "        final_html += \"</div>\"\n",
        "        display(HTML(final_html))\n",
        "\n",
        "\n",
        "run_button.on_click(on_run_button_clicked)\n"
      ]
    }
  ],
  "metadata": {
    "colab": {
      "provenance": []
    },
    "kernelspec": {
      "display_name": "Python 3",
      "name": "python3"
    },
    "language_info": {
      "name": "python"
    },
    "widgets": {
      "application/vnd.jupyter.widget-state+json": {
        "e4c12df09551486b95ad1a42cf8b9384": {
          "model_module": "@jupyter-widgets/controls",
          "model_name": "VBoxModel",
          "model_module_version": "1.5.0",
          "state": {
            "_dom_classes": [],
            "_model_module": "@jupyter-widgets/controls",
            "_model_module_version": "1.5.0",
            "_model_name": "VBoxModel",
            "_view_count": null,
            "_view_module": "@jupyter-widgets/controls",
            "_view_module_version": "1.5.0",
            "_view_name": "VBoxView",
            "box_style": "",
            "children": [
              "IPY_MODEL_3a668b52d80a4223a0382fc2a22cd5e1",
              "IPY_MODEL_a1aa4697a0ba49f18279ec5604fea6f8",
              "IPY_MODEL_043bf7a2fa654fb897b1db7a3372b115",
              "IPY_MODEL_ec0ebf7462b1437f9dcf20407854b44d"
            ],
            "layout": "IPY_MODEL_b96f832c32ae40bcb6f0243664b1bc1b"
          }
        },
        "3a668b52d80a4223a0382fc2a22cd5e1": {
          "model_module": "@jupyter-widgets/controls",
          "model_name": "FileUploadModel",
          "model_module_version": "1.5.0",
          "state": {
            "_counter": 1,
            "_dom_classes": [],
            "_model_module": "@jupyter-widgets/controls",
            "_model_module_version": "1.5.0",
            "_model_name": "FileUploadModel",
            "_view_count": null,
            "_view_module": "@jupyter-widgets/controls",
            "_view_module_version": "1.5.0",
            "_view_name": "FileUploadView",
            "accept": ".csv",
            "button_style": "",
            "data": [
              null
            ],
            "description": "Upload CSV",
            "description_tooltip": null,
            "disabled": false,
            "error": "",
            "icon": "upload",
            "layout": "IPY_MODEL_2f20b7ae11544733a3c62347b974ef6c",
            "metadata": [
              {
                "name": "data1.csv",
                "type": "text/csv",
                "size": 96,
                "lastModified": 1743878851308
              }
            ],
            "multiple": false,
            "style": "IPY_MODEL_cdd64dfc06814c01956c2a6eff49c3d8"
          }
        },
        "a1aa4697a0ba49f18279ec5604fea6f8": {
          "model_module": "@jupyter-widgets/controls",
          "model_name": "DropdownModel",
          "model_module_version": "1.5.0",
          "state": {
            "_dom_classes": [],
            "_model_module": "@jupyter-widgets/controls",
            "_model_module_version": "1.5.0",
            "_model_name": "DropdownModel",
            "_options_labels": [
              "1",
              "2",
              "3",
              "4",
              "5",
              "6",
              "7",
              "8",
              "9",
              "10"
            ],
            "_view_count": null,
            "_view_module": "@jupyter-widgets/controls",
            "_view_module_version": "1.5.0",
            "_view_name": "DropdownView",
            "description": "Minimum Support:",
            "description_tooltip": null,
            "disabled": false,
            "index": 2,
            "layout": "IPY_MODEL_affd4ee133a34589b0d67703a5392f57",
            "style": "IPY_MODEL_82a4693e9e71483eb56fd650fb0f789e"
          }
        },
        "043bf7a2fa654fb897b1db7a3372b115": {
          "model_module": "@jupyter-widgets/controls",
          "model_name": "ButtonModel",
          "model_module_version": "1.5.0",
          "state": {
            "_dom_classes": [],
            "_model_module": "@jupyter-widgets/controls",
            "_model_module_version": "1.5.0",
            "_model_name": "ButtonModel",
            "_view_count": null,
            "_view_module": "@jupyter-widgets/controls",
            "_view_module_version": "1.5.0",
            "_view_name": "ButtonView",
            "button_style": "",
            "description": "Run ECLAT",
            "disabled": false,
            "icon": "",
            "layout": "IPY_MODEL_a8d636729dea49f4ad794b6502a4df3b",
            "style": "IPY_MODEL_6b79025e79f74a36a2991df2939fa730",
            "tooltip": "Click to Run ECLAT"
          }
        },
        "ec0ebf7462b1437f9dcf20407854b44d": {
          "model_module": "@jupyter-widgets/output",
          "model_name": "OutputModel",
          "model_module_version": "1.0.0",
          "state": {
            "_dom_classes": [],
            "_model_module": "@jupyter-widgets/output",
            "_model_module_version": "1.0.0",
            "_model_name": "OutputModel",
            "_view_count": null,
            "_view_module": "@jupyter-widgets/output",
            "_view_module_version": "1.0.0",
            "_view_name": "OutputView",
            "layout": "IPY_MODEL_7456688f8608499480dc3d1bd90801c9",
            "msg_id": "",
            "outputs": [
              {
                "output_type": "display_data",
                "data": {
                  "text/plain": "<IPython.core.display.HTML object>",
                  "text/html": "<div class=\"my_output_area\"><strong>Uploaded CSV Data:</strong></div>"
                },
                "metadata": {}
              },
              {
                "output_type": "display_data",
                "data": {
                  "text/plain": "   TID              Items\n0    1  bread butter milk\n1    2        milk butter\n2    3  bread butter milk\n3    4       bread butter\n4    5              milk ",
                  "text/html": "\n  <div id=\"df-e1c8ce27-c024-4afa-87ac-4a20278bf068\" class=\"colab-df-container\">\n    <div>\n<style scoped>\n    .dataframe tbody tr th:only-of-type {\n        vertical-align: middle;\n    }\n\n    .dataframe tbody tr th {\n        vertical-align: top;\n    }\n\n    .dataframe thead th {\n        text-align: right;\n    }\n</style>\n<table border=\"1\" class=\"dataframe\">\n  <thead>\n    <tr style=\"text-align: right;\">\n      <th></th>\n      <th>TID</th>\n      <th>Items</th>\n    </tr>\n  </thead>\n  <tbody>\n    <tr>\n      <th>0</th>\n      <td>1</td>\n      <td>bread butter milk</td>\n    </tr>\n    <tr>\n      <th>1</th>\n      <td>2</td>\n      <td>milk butter</td>\n    </tr>\n    <tr>\n      <th>2</th>\n      <td>3</td>\n      <td>bread butter milk</td>\n    </tr>\n    <tr>\n      <th>3</th>\n      <td>4</td>\n      <td>bread butter</td>\n    </tr>\n    <tr>\n      <th>4</th>\n      <td>5</td>\n      <td>milk</td>\n    </tr>\n  </tbody>\n</table>\n</div>\n    <div class=\"colab-df-buttons\">\n\n  <div class=\"colab-df-container\">\n    <button class=\"colab-df-convert\" onclick=\"convertToInteractive('df-e1c8ce27-c024-4afa-87ac-4a20278bf068')\"\n            title=\"Convert this dataframe to an interactive table.\"\n            style=\"display:none;\">\n\n  <svg xmlns=\"http://www.w3.org/2000/svg\" height=\"24px\" viewBox=\"0 -960 960 960\">\n    <path d=\"M120-120v-720h720v720H120Zm60-500h600v-160H180v160Zm220 220h160v-160H400v160Zm0 220h160v-160H400v160ZM180-400h160v-160H180v160Zm440 0h160v-160H620v160ZM180-180h160v-160H180v160Zm440 0h160v-160H620v160Z\"/>\n  </svg>\n    </button>\n\n  <style>\n    .colab-df-container {\n      display:flex;\n      gap: 12px;\n    }\n\n    .colab-df-convert {\n      background-color: #E8F0FE;\n      border: none;\n      border-radius: 50%;\n      cursor: pointer;\n      display: none;\n      fill: #1967D2;\n      height: 32px;\n      padding: 0 0 0 0;\n      width: 32px;\n    }\n\n    .colab-df-convert:hover {\n      background-color: #E2EBFA;\n      box-shadow: 0px 1px 2px rgba(60, 64, 67, 0.3), 0px 1px 3px 1px rgba(60, 64, 67, 0.15);\n      fill: #174EA6;\n    }\n\n    .colab-df-buttons div {\n      margin-bottom: 4px;\n    }\n\n    [theme=dark] .colab-df-convert {\n      background-color: #3B4455;\n      fill: #D2E3FC;\n    }\n\n    [theme=dark] .colab-df-convert:hover {\n      background-color: #434B5C;\n      box-shadow: 0px 1px 3px 1px rgba(0, 0, 0, 0.15);\n      filter: drop-shadow(0px 1px 2px rgba(0, 0, 0, 0.3));\n      fill: #FFFFFF;\n    }\n  </style>\n\n    <script>\n      const buttonEl =\n        document.querySelector('#df-e1c8ce27-c024-4afa-87ac-4a20278bf068 button.colab-df-convert');\n      buttonEl.style.display =\n        google.colab.kernel.accessAllowed ? 'block' : 'none';\n\n      async function convertToInteractive(key) {\n        const element = document.querySelector('#df-e1c8ce27-c024-4afa-87ac-4a20278bf068');\n        const dataTable =\n          await google.colab.kernel.invokeFunction('convertToInteractive',\n                                                    [key], {});\n        if (!dataTable) return;\n\n        const docLinkHtml = 'Like what you see? Visit the ' +\n          '<a target=\"_blank\" href=https://colab.research.google.com/notebooks/data_table.ipynb>data table notebook</a>'\n          + ' to learn more about interactive tables.';\n        element.innerHTML = '';\n        dataTable['output_type'] = 'display_data';\n        await google.colab.output.renderOutput(dataTable, element);\n        const docLink = document.createElement('div');\n        docLink.innerHTML = docLinkHtml;\n        element.appendChild(docLink);\n      }\n    </script>\n  </div>\n\n\n    <div id=\"df-4fb708ad-fa04-4f95-8d80-c09995e0d537\">\n      <button class=\"colab-df-quickchart\" onclick=\"quickchart('df-4fb708ad-fa04-4f95-8d80-c09995e0d537')\"\n                title=\"Suggest charts\"\n                style=\"display:none;\">\n\n<svg xmlns=\"http://www.w3.org/2000/svg\" height=\"24px\"viewBox=\"0 0 24 24\"\n     width=\"24px\">\n    <g>\n        <path d=\"M19 3H5c-1.1 0-2 .9-2 2v14c0 1.1.9 2 2 2h14c1.1 0 2-.9 2-2V5c0-1.1-.9-2-2-2zM9 17H7v-7h2v7zm4 0h-2V7h2v10zm4 0h-2v-4h2v4z\"/>\n    </g>\n</svg>\n      </button>\n\n<style>\n  .colab-df-quickchart {\n      --bg-color: #E8F0FE;\n      --fill-color: #1967D2;\n      --hover-bg-color: #E2EBFA;\n      --hover-fill-color: #174EA6;\n      --disabled-fill-color: #AAA;\n      --disabled-bg-color: #DDD;\n  }\n\n  [theme=dark] .colab-df-quickchart {\n      --bg-color: #3B4455;\n      --fill-color: #D2E3FC;\n      --hover-bg-color: #434B5C;\n      --hover-fill-color: #FFFFFF;\n      --disabled-bg-color: #3B4455;\n      --disabled-fill-color: #666;\n  }\n\n  .colab-df-quickchart {\n    background-color: var(--bg-color);\n    border: none;\n    border-radius: 50%;\n    cursor: pointer;\n    display: none;\n    fill: var(--fill-color);\n    height: 32px;\n    padding: 0;\n    width: 32px;\n  }\n\n  .colab-df-quickchart:hover {\n    background-color: var(--hover-bg-color);\n    box-shadow: 0 1px 2px rgba(60, 64, 67, 0.3), 0 1px 3px 1px rgba(60, 64, 67, 0.15);\n    fill: var(--button-hover-fill-color);\n  }\n\n  .colab-df-quickchart-complete:disabled,\n  .colab-df-quickchart-complete:disabled:hover {\n    background-color: var(--disabled-bg-color);\n    fill: var(--disabled-fill-color);\n    box-shadow: none;\n  }\n\n  .colab-df-spinner {\n    border: 2px solid var(--fill-color);\n    border-color: transparent;\n    border-bottom-color: var(--fill-color);\n    animation:\n      spin 1s steps(1) infinite;\n  }\n\n  @keyframes spin {\n    0% {\n      border-color: transparent;\n      border-bottom-color: var(--fill-color);\n      border-left-color: var(--fill-color);\n    }\n    20% {\n      border-color: transparent;\n      border-left-color: var(--fill-color);\n      border-top-color: var(--fill-color);\n    }\n    30% {\n      border-color: transparent;\n      border-left-color: var(--fill-color);\n      border-top-color: var(--fill-color);\n      border-right-color: var(--fill-color);\n    }\n    40% {\n      border-color: transparent;\n      border-right-color: var(--fill-color);\n      border-top-color: var(--fill-color);\n    }\n    60% {\n      border-color: transparent;\n      border-right-color: var(--fill-color);\n    }\n    80% {\n      border-color: transparent;\n      border-right-color: var(--fill-color);\n      border-bottom-color: var(--fill-color);\n    }\n    90% {\n      border-color: transparent;\n      border-bottom-color: var(--fill-color);\n    }\n  }\n</style>\n\n      <script>\n        async function quickchart(key) {\n          const quickchartButtonEl =\n            document.querySelector('#' + key + ' button');\n          quickchartButtonEl.disabled = true;  // To prevent multiple clicks.\n          quickchartButtonEl.classList.add('colab-df-spinner');\n          try {\n            const charts = await google.colab.kernel.invokeFunction(\n                'suggestCharts', [key], {});\n          } catch (error) {\n            console.error('Error during call to suggestCharts:', error);\n          }\n          quickchartButtonEl.classList.remove('colab-df-spinner');\n          quickchartButtonEl.classList.add('colab-df-quickchart-complete');\n        }\n        (() => {\n          let quickchartButtonEl =\n            document.querySelector('#df-4fb708ad-fa04-4f95-8d80-c09995e0d537 button');\n          quickchartButtonEl.style.display =\n            google.colab.kernel.accessAllowed ? 'block' : 'none';\n        })();\n      </script>\n    </div>\n\n    </div>\n  </div>\n",
                  "application/vnd.google.colaboratory.intrinsic+json": {
                    "type": "dataframe",
                    "summary": "{\n  \"name\": \"run_button\",\n  \"rows\": 5,\n  \"fields\": [\n    {\n      \"column\": \"TID\",\n      \"properties\": {\n        \"dtype\": \"number\",\n        \"std\": 1,\n        \"min\": 1,\n        \"max\": 5,\n        \"num_unique_values\": 5,\n        \"samples\": [\n          2,\n          5,\n          3\n        ],\n        \"semantic_type\": \"\",\n        \"description\": \"\"\n      }\n    },\n    {\n      \"column\": \"Items\",\n      \"properties\": {\n        \"dtype\": \"string\",\n        \"num_unique_values\": 4,\n        \"samples\": [\n          \"milk butter\",\n          \"milk \",\n          \"bread butter milk\"\n        ],\n        \"semantic_type\": \"\",\n        \"description\": \"\"\n      }\n    }\n  ]\n}"
                  }
                },
                "metadata": {}
              },
              {
                "output_type": "display_data",
                "data": {
                  "text/plain": "<IPython.core.display.HTML object>",
                  "text/html": "<div class=\"my_output_area\">Running ECLAT with minimum support = 3</div>"
                },
                "metadata": {}
              },
              {
                "output_type": "display_data",
                "data": {
                  "text/plain": "<IPython.core.display.HTML object>",
                  "text/html": "<div class=\"my_output_area\"><strong>VDF for 1-itemsets (before pruning):</strong></div>"
                },
                "metadata": {}
              },
              {
                "output_type": "display_data",
                "data": {
                  "text/plain": "<IPython.core.display.HTML object>",
                  "text/html": "<div class=\"my_output_area\">bread : {1, 3, 4} (Support: 3)</div>"
                },
                "metadata": {}
              },
              {
                "output_type": "display_data",
                "data": {
                  "text/plain": "<IPython.core.display.HTML object>",
                  "text/html": "<div class=\"my_output_area\">butter : {1, 2, 3, 4} (Support: 4)</div>"
                },
                "metadata": {}
              },
              {
                "output_type": "display_data",
                "data": {
                  "text/plain": "<IPython.core.display.HTML object>",
                  "text/html": "<div class=\"my_output_area\">milk : {1, 2, 3, 5} (Support: 4)</div>"
                },
                "metadata": {}
              },
              {
                "output_type": "display_data",
                "data": {
                  "text/plain": "<IPython.core.display.HTML object>",
                  "text/html": "<div class=\"my_output_area\"><strong>VDF for 1-itemsets (after pruning):</strong></div>"
                },
                "metadata": {}
              },
              {
                "output_type": "display_data",
                "data": {
                  "text/plain": "<IPython.core.display.HTML object>",
                  "text/html": "<div class=\"my_output_area\">bread : {1, 3, 4} (Support: 3)</div>"
                },
                "metadata": {}
              },
              {
                "output_type": "display_data",
                "data": {
                  "text/plain": "<IPython.core.display.HTML object>",
                  "text/html": "<div class=\"my_output_area\">butter : {1, 2, 3, 4} (Support: 4)</div>"
                },
                "metadata": {}
              },
              {
                "output_type": "display_data",
                "data": {
                  "text/plain": "<IPython.core.display.HTML object>",
                  "text/html": "<div class=\"my_output_area\">milk : {1, 2, 3, 5} (Support: 4)</div>"
                },
                "metadata": {}
              },
              {
                "output_type": "display_data",
                "data": {
                  "text/plain": "<IPython.core.display.HTML object>",
                  "text/html": "<div class=\"my_output_area\"><strong>VDF for 2-itemsets (before pruning):</strong></div>"
                },
                "metadata": {}
              },
              {
                "output_type": "display_data",
                "data": {
                  "text/plain": "<IPython.core.display.HTML object>",
                  "text/html": "<div class=\"my_output_area\">bread, butter : {1, 3, 4} (Support: 3)</div>"
                },
                "metadata": {}
              },
              {
                "output_type": "display_data",
                "data": {
                  "text/plain": "<IPython.core.display.HTML object>",
                  "text/html": "<div class=\"my_output_area\">butter, milk : {1, 2, 3} (Support: 3)</div>"
                },
                "metadata": {}
              },
              {
                "output_type": "display_data",
                "data": {
                  "text/plain": "<IPython.core.display.HTML object>",
                  "text/html": "<div class=\"my_output_area\">bread, milk : {1, 3} (Support: 2)</div>"
                },
                "metadata": {}
              },
              {
                "output_type": "display_data",
                "data": {
                  "text/plain": "<IPython.core.display.HTML object>",
                  "text/html": "<div class=\"my_output_area\"><strong>VDF for 2-itemsets (after pruning):</strong></div>"
                },
                "metadata": {}
              },
              {
                "output_type": "display_data",
                "data": {
                  "text/plain": "<IPython.core.display.HTML object>",
                  "text/html": "<div class=\"my_output_area\">bread, butter : {1, 3, 4} (Support: 3)</div>"
                },
                "metadata": {}
              },
              {
                "output_type": "display_data",
                "data": {
                  "text/plain": "<IPython.core.display.HTML object>",
                  "text/html": "<div class=\"my_output_area\">butter, milk : {1, 2, 3} (Support: 3)</div>"
                },
                "metadata": {}
              },
              {
                "output_type": "display_data",
                "data": {
                  "text/plain": "<IPython.core.display.HTML object>",
                  "text/html": "<div class=\"my_output_area\"><strong>VDF for 3-itemsets (before pruning):</strong></div>"
                },
                "metadata": {}
              },
              {
                "output_type": "display_data",
                "data": {
                  "text/plain": "<IPython.core.display.HTML object>",
                  "text/html": "<div class=\"my_output_area\">bread, butter, milk : {1, 3} (Support: 2)</div>"
                },
                "metadata": {}
              },
              {
                "output_type": "display_data",
                "data": {
                  "text/plain": "<IPython.core.display.HTML object>",
                  "text/html": "<div class=\"my_output_area\"><strong>All Frequent Itemsets Found:</strong></div>"
                },
                "metadata": {}
              },
              {
                "output_type": "display_data",
                "data": {
                  "text/plain": "<IPython.core.display.HTML object>",
                  "text/html": "<div class=\"my_output_area\">Itemset: ('bread',) | Support: 3</div>"
                },
                "metadata": {}
              },
              {
                "output_type": "display_data",
                "data": {
                  "text/plain": "<IPython.core.display.HTML object>",
                  "text/html": "<div class=\"my_output_area\">Itemset: ('butter',) | Support: 4</div>"
                },
                "metadata": {}
              },
              {
                "output_type": "display_data",
                "data": {
                  "text/plain": "<IPython.core.display.HTML object>",
                  "text/html": "<div class=\"my_output_area\">Itemset: ('milk',) | Support: 4</div>"
                },
                "metadata": {}
              },
              {
                "output_type": "display_data",
                "data": {
                  "text/plain": "<IPython.core.display.HTML object>",
                  "text/html": "<div class=\"my_output_area\">Itemset: ('bread', 'butter') | Support: 3</div>"
                },
                "metadata": {}
              },
              {
                "output_type": "display_data",
                "data": {
                  "text/plain": "<IPython.core.display.HTML object>",
                  "text/html": "<div class=\"my_output_area\">Itemset: ('butter', 'milk') | Support: 3</div>"
                },
                "metadata": {}
              }
            ]
          }
        },
        "b96f832c32ae40bcb6f0243664b1bc1b": {
          "model_module": "@jupyter-widgets/base",
          "model_name": "LayoutModel",
          "model_module_version": "1.2.0",
          "state": {
            "_model_module": "@jupyter-widgets/base",
            "_model_module_version": "1.2.0",
            "_model_name": "LayoutModel",
            "_view_count": null,
            "_view_module": "@jupyter-widgets/base",
            "_view_module_version": "1.2.0",
            "_view_name": "LayoutView",
            "align_content": null,
            "align_items": null,
            "align_self": null,
            "border": null,
            "bottom": null,
            "display": null,
            "flex": null,
            "flex_flow": null,
            "grid_area": null,
            "grid_auto_columns": null,
            "grid_auto_flow": null,
            "grid_auto_rows": null,
            "grid_column": null,
            "grid_gap": null,
            "grid_row": null,
            "grid_template_areas": null,
            "grid_template_columns": null,
            "grid_template_rows": null,
            "height": null,
            "justify_content": null,
            "justify_items": null,
            "left": null,
            "margin": null,
            "max_height": null,
            "max_width": null,
            "min_height": null,
            "min_width": null,
            "object_fit": null,
            "object_position": null,
            "order": null,
            "overflow": null,
            "overflow_x": null,
            "overflow_y": null,
            "padding": null,
            "right": null,
            "top": null,
            "visibility": null,
            "width": null
          }
        },
        "2f20b7ae11544733a3c62347b974ef6c": {
          "model_module": "@jupyter-widgets/base",
          "model_name": "LayoutModel",
          "model_module_version": "1.2.0",
          "state": {
            "_model_module": "@jupyter-widgets/base",
            "_model_module_version": "1.2.0",
            "_model_name": "LayoutModel",
            "_view_count": null,
            "_view_module": "@jupyter-widgets/base",
            "_view_module_version": "1.2.0",
            "_view_name": "LayoutView",
            "align_content": null,
            "align_items": null,
            "align_self": null,
            "border": null,
            "bottom": null,
            "display": null,
            "flex": null,
            "flex_flow": null,
            "grid_area": null,
            "grid_auto_columns": null,
            "grid_auto_flow": null,
            "grid_auto_rows": null,
            "grid_column": null,
            "grid_gap": null,
            "grid_row": null,
            "grid_template_areas": null,
            "grid_template_columns": null,
            "grid_template_rows": null,
            "height": null,
            "justify_content": null,
            "justify_items": null,
            "left": null,
            "margin": null,
            "max_height": null,
            "max_width": null,
            "min_height": null,
            "min_width": null,
            "object_fit": null,
            "object_position": null,
            "order": null,
            "overflow": null,
            "overflow_x": null,
            "overflow_y": null,
            "padding": null,
            "right": null,
            "top": null,
            "visibility": null,
            "width": null
          }
        },
        "cdd64dfc06814c01956c2a6eff49c3d8": {
          "model_module": "@jupyter-widgets/controls",
          "model_name": "ButtonStyleModel",
          "model_module_version": "1.5.0",
          "state": {
            "_model_module": "@jupyter-widgets/controls",
            "_model_module_version": "1.5.0",
            "_model_name": "ButtonStyleModel",
            "_view_count": null,
            "_view_module": "@jupyter-widgets/base",
            "_view_module_version": "1.2.0",
            "_view_name": "StyleView",
            "button_color": null,
            "font_weight": ""
          }
        },
        "affd4ee133a34589b0d67703a5392f57": {
          "model_module": "@jupyter-widgets/base",
          "model_name": "LayoutModel",
          "model_module_version": "1.2.0",
          "state": {
            "_model_module": "@jupyter-widgets/base",
            "_model_module_version": "1.2.0",
            "_model_name": "LayoutModel",
            "_view_count": null,
            "_view_module": "@jupyter-widgets/base",
            "_view_module_version": "1.2.0",
            "_view_name": "LayoutView",
            "align_content": null,
            "align_items": null,
            "align_self": null,
            "border": null,
            "bottom": null,
            "display": null,
            "flex": null,
            "flex_flow": null,
            "grid_area": null,
            "grid_auto_columns": null,
            "grid_auto_flow": null,
            "grid_auto_rows": null,
            "grid_column": null,
            "grid_gap": null,
            "grid_row": null,
            "grid_template_areas": null,
            "grid_template_columns": null,
            "grid_template_rows": null,
            "height": null,
            "justify_content": null,
            "justify_items": null,
            "left": null,
            "margin": null,
            "max_height": null,
            "max_width": null,
            "min_height": null,
            "min_width": null,
            "object_fit": null,
            "object_position": null,
            "order": null,
            "overflow": null,
            "overflow_x": null,
            "overflow_y": null,
            "padding": null,
            "right": null,
            "top": null,
            "visibility": null,
            "width": null
          }
        },
        "82a4693e9e71483eb56fd650fb0f789e": {
          "model_module": "@jupyter-widgets/controls",
          "model_name": "DescriptionStyleModel",
          "model_module_version": "1.5.0",
          "state": {
            "_model_module": "@jupyter-widgets/controls",
            "_model_module_version": "1.5.0",
            "_model_name": "DescriptionStyleModel",
            "_view_count": null,
            "_view_module": "@jupyter-widgets/base",
            "_view_module_version": "1.2.0",
            "_view_name": "StyleView",
            "description_width": "initial"
          }
        },
        "a8d636729dea49f4ad794b6502a4df3b": {
          "model_module": "@jupyter-widgets/base",
          "model_name": "LayoutModel",
          "model_module_version": "1.2.0",
          "state": {
            "_model_module": "@jupyter-widgets/base",
            "_model_module_version": "1.2.0",
            "_model_name": "LayoutModel",
            "_view_count": null,
            "_view_module": "@jupyter-widgets/base",
            "_view_module_version": "1.2.0",
            "_view_name": "LayoutView",
            "align_content": null,
            "align_items": null,
            "align_self": null,
            "border": null,
            "bottom": null,
            "display": null,
            "flex": null,
            "flex_flow": null,
            "grid_area": null,
            "grid_auto_columns": null,
            "grid_auto_flow": null,
            "grid_auto_rows": null,
            "grid_column": null,
            "grid_gap": null,
            "grid_row": null,
            "grid_template_areas": null,
            "grid_template_columns": null,
            "grid_template_rows": null,
            "height": null,
            "justify_content": null,
            "justify_items": null,
            "left": null,
            "margin": null,
            "max_height": null,
            "max_width": null,
            "min_height": null,
            "min_width": null,
            "object_fit": null,
            "object_position": null,
            "order": null,
            "overflow": null,
            "overflow_x": null,
            "overflow_y": null,
            "padding": null,
            "right": null,
            "top": null,
            "visibility": null,
            "width": null
          }
        },
        "6b79025e79f74a36a2991df2939fa730": {
          "model_module": "@jupyter-widgets/controls",
          "model_name": "ButtonStyleModel",
          "model_module_version": "1.5.0",
          "state": {
            "_model_module": "@jupyter-widgets/controls",
            "_model_module_version": "1.5.0",
            "_model_name": "ButtonStyleModel",
            "_view_count": null,
            "_view_module": "@jupyter-widgets/base",
            "_view_module_version": "1.2.0",
            "_view_name": "StyleView",
            "button_color": null,
            "font_weight": ""
          }
        },
        "7456688f8608499480dc3d1bd90801c9": {
          "model_module": "@jupyter-widgets/base",
          "model_name": "LayoutModel",
          "model_module_version": "1.2.0",
          "state": {
            "_model_module": "@jupyter-widgets/base",
            "_model_module_version": "1.2.0",
            "_model_name": "LayoutModel",
            "_view_count": null,
            "_view_module": "@jupyter-widgets/base",
            "_view_module_version": "1.2.0",
            "_view_name": "LayoutView",
            "align_content": null,
            "align_items": null,
            "align_self": null,
            "border": null,
            "bottom": null,
            "display": null,
            "flex": null,
            "flex_flow": null,
            "grid_area": null,
            "grid_auto_columns": null,
            "grid_auto_flow": null,
            "grid_auto_rows": null,
            "grid_column": null,
            "grid_gap": null,
            "grid_row": null,
            "grid_template_areas": null,
            "grid_template_columns": null,
            "grid_template_rows": null,
            "height": null,
            "justify_content": null,
            "justify_items": null,
            "left": null,
            "margin": null,
            "max_height": null,
            "max_width": null,
            "min_height": null,
            "min_width": null,
            "object_fit": null,
            "object_position": null,
            "order": null,
            "overflow": null,
            "overflow_x": null,
            "overflow_y": null,
            "padding": null,
            "right": null,
            "top": null,
            "visibility": null,
            "width": null
          }
        },
        "21dff50c9ac543aab525c589e35abc50": {
          "model_module": "@jupyter-widgets/controls",
          "model_name": "VBoxModel",
          "model_module_version": "1.5.0",
          "state": {
            "_dom_classes": [],
            "_model_module": "@jupyter-widgets/controls",
            "_model_module_version": "1.5.0",
            "_model_name": "VBoxModel",
            "_view_count": null,
            "_view_module": "@jupyter-widgets/controls",
            "_view_module_version": "1.5.0",
            "_view_name": "VBoxView",
            "box_style": "",
            "children": [
              "IPY_MODEL_30208ae23a0744e0a99eea1def817fcf",
              "IPY_MODEL_79736a02ec7448de95e72b7c6d3724e1",
              "IPY_MODEL_200bc757397340cba51099721b89d4d8",
              "IPY_MODEL_34107399f0fb4b0ba4cd0e68f1e6dfe3"
            ],
            "layout": "IPY_MODEL_485ad5dd94894750b6f44f70a384cd50"
          }
        },
        "30208ae23a0744e0a99eea1def817fcf": {
          "model_module": "@jupyter-widgets/controls",
          "model_name": "FileUploadModel",
          "model_module_version": "1.5.0",
          "state": {
            "_counter": 1,
            "_dom_classes": [],
            "_model_module": "@jupyter-widgets/controls",
            "_model_module_version": "1.5.0",
            "_model_name": "FileUploadModel",
            "_view_count": null,
            "_view_module": "@jupyter-widgets/controls",
            "_view_module_version": "1.5.0",
            "_view_name": "FileUploadView",
            "accept": ".csv",
            "button_style": "",
            "data": [
              null
            ],
            "description": "Upload CSV",
            "description_tooltip": null,
            "disabled": false,
            "error": "",
            "icon": "upload",
            "layout": "IPY_MODEL_226d52ef1bef4ed2b94f1c0b53e6fccf",
            "metadata": [
              {
                "name": "OnlineRetail.csv",
                "type": "text/csv",
                "size": 129678,
                "lastModified": 1745679217281
              }
            ],
            "multiple": false,
            "style": "IPY_MODEL_dc3a60f195c546478b2cc1b58a9491d3"
          }
        },
        "79736a02ec7448de95e72b7c6d3724e1": {
          "model_module": "@jupyter-widgets/controls",
          "model_name": "DropdownModel",
          "model_module_version": "1.5.0",
          "state": {
            "_dom_classes": [],
            "_model_module": "@jupyter-widgets/controls",
            "_model_module_version": "1.5.0",
            "_model_name": "DropdownModel",
            "_options_labels": [
              "1",
              "2",
              "3",
              "4",
              "5",
              "6",
              "7",
              "8",
              "9",
              "10",
              "11",
              "12"
            ],
            "_view_count": null,
            "_view_module": "@jupyter-widgets/controls",
            "_view_module_version": "1.5.0",
            "_view_name": "DropdownView",
            "description": "Minimum Support:",
            "description_tooltip": null,
            "disabled": false,
            "index": 9,
            "layout": "IPY_MODEL_cbc1d028a0ba498c80af505654fca96a",
            "style": "IPY_MODEL_6e52358925b1447ea3d2d427a8234401"
          }
        },
        "200bc757397340cba51099721b89d4d8": {
          "model_module": "@jupyter-widgets/controls",
          "model_name": "ButtonModel",
          "model_module_version": "1.5.0",
          "state": {
            "_dom_classes": [],
            "_model_module": "@jupyter-widgets/controls",
            "_model_module_version": "1.5.0",
            "_model_name": "ButtonModel",
            "_view_count": null,
            "_view_module": "@jupyter-widgets/controls",
            "_view_module_version": "1.5.0",
            "_view_name": "ButtonView",
            "button_style": "",
            "description": "Run ECLAT",
            "disabled": false,
            "icon": "",
            "layout": "IPY_MODEL_609704354569428081c40021f6e3bf83",
            "style": "IPY_MODEL_08e4394cdb0743969154644ac64efa27",
            "tooltip": "Click to Run ECLAT"
          }
        },
        "34107399f0fb4b0ba4cd0e68f1e6dfe3": {
          "model_module": "@jupyter-widgets/output",
          "model_name": "OutputModel",
          "model_module_version": "1.0.0",
          "state": {
            "_dom_classes": [],
            "_model_module": "@jupyter-widgets/output",
            "_model_module_version": "1.0.0",
            "_model_name": "OutputModel",
            "_view_count": null,
            "_view_module": "@jupyter-widgets/output",
            "_view_module_version": "1.0.0",
            "_view_name": "OutputView",
            "layout": "IPY_MODEL_6b1144a0d3c94b28b25880afb460b566",
            "msg_id": "",
            "outputs": [
              {
                "output_type": "display_data",
                "data": {
                  "text/plain": "<IPython.core.display.HTML object>",
                  "text/html": "<div class=\"my_output_area\"><strong>Dataset Preview:</strong><br><br><table border=\"1\" class=\"dataframe\">\n  <thead>\n    <tr style=\"text-align: right;\">\n      <th></th>\n      <th>InvoiceNo</th>\n      <th>StockCode</th>\n      <th>Description</th>\n      <th>Quantity</th>\n      <th>InvoiceDate</th>\n      <th>UnitPrice</th>\n      <th>CustomerID</th>\n      <th>Country</th>\n    </tr>\n  </thead>\n  <tbody>\n    <tr>\n      <th>0</th>\n      <td>536365</td>\n      <td>85123A</td>\n      <td>WHITE HANGING HEART T-LIGHT HOLDER</td>\n      <td>6</td>\n      <td>01-12-2010 08:26</td>\n      <td>2.55</td>\n      <td>17850.0</td>\n      <td>United Kingdom</td>\n    </tr>\n    <tr>\n      <th>1</th>\n      <td>536365</td>\n      <td>71053</td>\n      <td>WHITE METAL LANTERN</td>\n      <td>6</td>\n      <td>01-12-2010 08:26</td>\n      <td>3.39</td>\n      <td>17850.0</td>\n      <td>United Kingdom</td>\n    </tr>\n    <tr>\n      <th>2</th>\n      <td>536365</td>\n      <td>84406B</td>\n      <td>CREAM CUPID HEARTS COAT HANGER</td>\n      <td>8</td>\n      <td>01-12-2010 08:26</td>\n      <td>2.75</td>\n      <td>17850.0</td>\n      <td>United Kingdom</td>\n    </tr>\n    <tr>\n      <th>3</th>\n      <td>536365</td>\n      <td>84029G</td>\n      <td>KNITTED UNION FLAG HOT WATER BOTTLE</td>\n      <td>6</td>\n      <td>01-12-2010 08:26</td>\n      <td>3.39</td>\n      <td>17850.0</td>\n      <td>United Kingdom</td>\n    </tr>\n    <tr>\n      <th>4</th>\n      <td>536365</td>\n      <td>84029E</td>\n      <td>RED WOOLLY HOTTIE WHITE HEART.</td>\n      <td>6</td>\n      <td>01-12-2010 08:26</td>\n      <td>3.39</td>\n      <td>17850.0</td>\n      <td>United Kingdom</td>\n    </tr>\n  </tbody>\n</table></div>"
                },
                "metadata": {}
              },
              {
                "output_type": "display_data",
                "data": {
                  "text/plain": "<IPython.core.display.HTML object>",
                  "text/html": "<div class='my_output_area'><strong>Frequent Itemsets:</strong><br><br>Itemset: [frozenset({'WHITE HANGING HEART T-LIGHT HOLDER'})] | Support: 11<br>Itemset: [frozenset({'HAND WARMER UNION JACK'})] | Support: 10<br>Itemset: [frozenset({'JAM MAKING SET PRINTED'})] | Support: 11<br>Itemset: [frozenset({'HAND WARMER RED RETROSPOT'})] | Support: 10<br></div>"
                },
                "metadata": {}
              }
            ]
          }
        },
        "485ad5dd94894750b6f44f70a384cd50": {
          "model_module": "@jupyter-widgets/base",
          "model_name": "LayoutModel",
          "model_module_version": "1.2.0",
          "state": {
            "_model_module": "@jupyter-widgets/base",
            "_model_module_version": "1.2.0",
            "_model_name": "LayoutModel",
            "_view_count": null,
            "_view_module": "@jupyter-widgets/base",
            "_view_module_version": "1.2.0",
            "_view_name": "LayoutView",
            "align_content": null,
            "align_items": null,
            "align_self": null,
            "border": null,
            "bottom": null,
            "display": null,
            "flex": null,
            "flex_flow": null,
            "grid_area": null,
            "grid_auto_columns": null,
            "grid_auto_flow": null,
            "grid_auto_rows": null,
            "grid_column": null,
            "grid_gap": null,
            "grid_row": null,
            "grid_template_areas": null,
            "grid_template_columns": null,
            "grid_template_rows": null,
            "height": null,
            "justify_content": null,
            "justify_items": null,
            "left": null,
            "margin": null,
            "max_height": null,
            "max_width": null,
            "min_height": null,
            "min_width": null,
            "object_fit": null,
            "object_position": null,
            "order": null,
            "overflow": null,
            "overflow_x": null,
            "overflow_y": null,
            "padding": null,
            "right": null,
            "top": null,
            "visibility": null,
            "width": null
          }
        },
        "226d52ef1bef4ed2b94f1c0b53e6fccf": {
          "model_module": "@jupyter-widgets/base",
          "model_name": "LayoutModel",
          "model_module_version": "1.2.0",
          "state": {
            "_model_module": "@jupyter-widgets/base",
            "_model_module_version": "1.2.0",
            "_model_name": "LayoutModel",
            "_view_count": null,
            "_view_module": "@jupyter-widgets/base",
            "_view_module_version": "1.2.0",
            "_view_name": "LayoutView",
            "align_content": null,
            "align_items": null,
            "align_self": null,
            "border": null,
            "bottom": null,
            "display": null,
            "flex": null,
            "flex_flow": null,
            "grid_area": null,
            "grid_auto_columns": null,
            "grid_auto_flow": null,
            "grid_auto_rows": null,
            "grid_column": null,
            "grid_gap": null,
            "grid_row": null,
            "grid_template_areas": null,
            "grid_template_columns": null,
            "grid_template_rows": null,
            "height": null,
            "justify_content": null,
            "justify_items": null,
            "left": null,
            "margin": null,
            "max_height": null,
            "max_width": null,
            "min_height": null,
            "min_width": null,
            "object_fit": null,
            "object_position": null,
            "order": null,
            "overflow": null,
            "overflow_x": null,
            "overflow_y": null,
            "padding": null,
            "right": null,
            "top": null,
            "visibility": null,
            "width": null
          }
        },
        "dc3a60f195c546478b2cc1b58a9491d3": {
          "model_module": "@jupyter-widgets/controls",
          "model_name": "ButtonStyleModel",
          "model_module_version": "1.5.0",
          "state": {
            "_model_module": "@jupyter-widgets/controls",
            "_model_module_version": "1.5.0",
            "_model_name": "ButtonStyleModel",
            "_view_count": null,
            "_view_module": "@jupyter-widgets/base",
            "_view_module_version": "1.2.0",
            "_view_name": "StyleView",
            "button_color": null,
            "font_weight": ""
          }
        },
        "cbc1d028a0ba498c80af505654fca96a": {
          "model_module": "@jupyter-widgets/base",
          "model_name": "LayoutModel",
          "model_module_version": "1.2.0",
          "state": {
            "_model_module": "@jupyter-widgets/base",
            "_model_module_version": "1.2.0",
            "_model_name": "LayoutModel",
            "_view_count": null,
            "_view_module": "@jupyter-widgets/base",
            "_view_module_version": "1.2.0",
            "_view_name": "LayoutView",
            "align_content": null,
            "align_items": null,
            "align_self": null,
            "border": null,
            "bottom": null,
            "display": null,
            "flex": null,
            "flex_flow": null,
            "grid_area": null,
            "grid_auto_columns": null,
            "grid_auto_flow": null,
            "grid_auto_rows": null,
            "grid_column": null,
            "grid_gap": null,
            "grid_row": null,
            "grid_template_areas": null,
            "grid_template_columns": null,
            "grid_template_rows": null,
            "height": null,
            "justify_content": null,
            "justify_items": null,
            "left": null,
            "margin": null,
            "max_height": null,
            "max_width": null,
            "min_height": null,
            "min_width": null,
            "object_fit": null,
            "object_position": null,
            "order": null,
            "overflow": null,
            "overflow_x": null,
            "overflow_y": null,
            "padding": null,
            "right": null,
            "top": null,
            "visibility": null,
            "width": null
          }
        },
        "6e52358925b1447ea3d2d427a8234401": {
          "model_module": "@jupyter-widgets/controls",
          "model_name": "DescriptionStyleModel",
          "model_module_version": "1.5.0",
          "state": {
            "_model_module": "@jupyter-widgets/controls",
            "_model_module_version": "1.5.0",
            "_model_name": "DescriptionStyleModel",
            "_view_count": null,
            "_view_module": "@jupyter-widgets/base",
            "_view_module_version": "1.2.0",
            "_view_name": "StyleView",
            "description_width": "initial"
          }
        },
        "609704354569428081c40021f6e3bf83": {
          "model_module": "@jupyter-widgets/base",
          "model_name": "LayoutModel",
          "model_module_version": "1.2.0",
          "state": {
            "_model_module": "@jupyter-widgets/base",
            "_model_module_version": "1.2.0",
            "_model_name": "LayoutModel",
            "_view_count": null,
            "_view_module": "@jupyter-widgets/base",
            "_view_module_version": "1.2.0",
            "_view_name": "LayoutView",
            "align_content": null,
            "align_items": null,
            "align_self": null,
            "border": null,
            "bottom": null,
            "display": null,
            "flex": null,
            "flex_flow": null,
            "grid_area": null,
            "grid_auto_columns": null,
            "grid_auto_flow": null,
            "grid_auto_rows": null,
            "grid_column": null,
            "grid_gap": null,
            "grid_row": null,
            "grid_template_areas": null,
            "grid_template_columns": null,
            "grid_template_rows": null,
            "height": null,
            "justify_content": null,
            "justify_items": null,
            "left": null,
            "margin": null,
            "max_height": null,
            "max_width": null,
            "min_height": null,
            "min_width": null,
            "object_fit": null,
            "object_position": null,
            "order": null,
            "overflow": null,
            "overflow_x": null,
            "overflow_y": null,
            "padding": null,
            "right": null,
            "top": null,
            "visibility": null,
            "width": null
          }
        },
        "08e4394cdb0743969154644ac64efa27": {
          "model_module": "@jupyter-widgets/controls",
          "model_name": "ButtonStyleModel",
          "model_module_version": "1.5.0",
          "state": {
            "_model_module": "@jupyter-widgets/controls",
            "_model_module_version": "1.5.0",
            "_model_name": "ButtonStyleModel",
            "_view_count": null,
            "_view_module": "@jupyter-widgets/base",
            "_view_module_version": "1.2.0",
            "_view_name": "StyleView",
            "button_color": null,
            "font_weight": ""
          }
        },
        "6b1144a0d3c94b28b25880afb460b566": {
          "model_module": "@jupyter-widgets/base",
          "model_name": "LayoutModel",
          "model_module_version": "1.2.0",
          "state": {
            "_model_module": "@jupyter-widgets/base",
            "_model_module_version": "1.2.0",
            "_model_name": "LayoutModel",
            "_view_count": null,
            "_view_module": "@jupyter-widgets/base",
            "_view_module_version": "1.2.0",
            "_view_name": "LayoutView",
            "align_content": null,
            "align_items": null,
            "align_self": null,
            "border": null,
            "bottom": null,
            "display": null,
            "flex": null,
            "flex_flow": null,
            "grid_area": null,
            "grid_auto_columns": null,
            "grid_auto_flow": null,
            "grid_auto_rows": null,
            "grid_column": null,
            "grid_gap": null,
            "grid_row": null,
            "grid_template_areas": null,
            "grid_template_columns": null,
            "grid_template_rows": null,
            "height": null,
            "justify_content": null,
            "justify_items": null,
            "left": null,
            "margin": null,
            "max_height": null,
            "max_width": null,
            "min_height": null,
            "min_width": null,
            "object_fit": null,
            "object_position": null,
            "order": null,
            "overflow": null,
            "overflow_x": null,
            "overflow_y": null,
            "padding": null,
            "right": null,
            "top": null,
            "visibility": null,
            "width": null
          }
        }
      }
    }
  },
  "nbformat": 4,
  "nbformat_minor": 0
}